{
 "cells": [
  {
   "cell_type": "markdown",
   "id": "9e1bd668-2e1a-4db1-a428-782e1ed5b4a5",
   "metadata": {},
   "source": [
    "## 1.minimum delete sum"
   ]
  },
  {
   "cell_type": "code",
   "execution_count": 1,
   "id": "663af9a3-90d1-4720-959e-070bc1038f38",
   "metadata": {},
   "outputs": [
    {
     "name": "stdout",
     "output_type": "stream",
     "text": [
      "231\n"
     ]
    }
   ],
   "source": [
    "def minimumDeleteSum(s1, s2):\n",
    "    m, n = len(s1), len(s2)\n",
    "    dp = [[0] * (n+1) for _ in range(m+1)]\n",
    "\n",
    "    # Base cases\n",
    "    for i in range(1, m+1):\n",
    "        dp[i][0] = dp[i-1][0] + ord(s1[i-1])\n",
    "    for j in range(1, n+1):\n",
    "        dp[0][j] = dp[0][j-1] + ord(s2[j-1])\n",
    "\n",
    "    # Fill the DP table\n",
    "    for i in range(1, m+1):\n",
    "        for j in range(1, n+1):\n",
    "            if s1[i-1] == s2[j-1]:\n",
    "                dp[i][j] = dp[i-1][j-1]\n",
    "            else:\n",
    "                dp[i][j] = min(dp[i-1][j] + ord(s1[i-1]), dp[i][j-1] + ord(s2[j-1]))\n",
    "\n",
    "    return dp[m][n]\n",
    "\n",
    "s1 = \"sea\"\n",
    "s2 = \"eat\"\n",
    "print(minimumDeleteSum(s1, s2))\n"
   ]
  },
  {
   "cell_type": "code",
   "execution_count": null,
   "id": "9e6eb3b3-2784-4257-9a5d-51c13f8432d5",
   "metadata": {},
   "outputs": [],
   "source": [
    "-Initialize a 2D dynamic programming table dp with dimensions (m+1) x (n+1), where m and n are the lengths of \n",
    " s1 and s2, respectively.\n",
    "-Iterate through the rows of dp from 0 to m, and for each row, iterate through the columns from 0 to n.\n",
    "-For the base cases, when either i or j is 0, set dp[i][j] to 0 since one of the strings is empty, and no\n",
    " characters need to be deleted.\n",
    "-For the non-base cases, if s1[i-1] is equal to s2[j-1], it means the current characters match. In this case, \n",
    " set dp[i][j] to dp[i-1][j-1] since no characters need to be deleted.\n",
    "-If s1[i-1] is not equal to s2[j-1], it means the current characters do not match. In this case, we have two \n",
    " options: delete s1[i-1] or delete s2[j-1]. We choose the option that minimizes the ASCII sum of deleted \n",
    "characters. So, set dp[i][j] to the minimum of dp[i-1][j] + ord(s1[i-1]) and dp[i][j-1] + ord(s2[j-1]), where\n",
    " ord(c) returns the ASCII value of character c.\n",
    "-After iterating through all the cells, the value in dp[m][n] will represent the lowest ASCII sum of deleted \n",
    " characters required to make the two strings equal. Return this value as the result."
   ]
  },
  {
   "cell_type": "markdown",
   "id": "32f773f2-37af-454c-80ec-754f13b503cf",
   "metadata": {},
   "source": [
    "## 2. check valid string"
   ]
  },
  {
   "cell_type": "code",
   "execution_count": 2,
   "id": "f83b4ee3-805a-44c5-a7be-4bd16d623588",
   "metadata": {},
   "outputs": [
    {
     "name": "stdout",
     "output_type": "stream",
     "text": [
      "True\n"
     ]
    }
   ],
   "source": [
    "def checkValidString(s):\n",
    "    stack = []\n",
    "    \n",
    "    # First pass: match '(' and '*'\n",
    "    for c in s:\n",
    "        if c == '(' or c == '*':\n",
    "            stack.append(c)\n",
    "        elif c == ')':\n",
    "            if stack and stack[-1] == '(':\n",
    "                stack.pop()\n",
    "            else:\n",
    "                stack.append(c)\n",
    "    \n",
    "    # Second pass: match remaining '*' with open parentheses\n",
    "    open_parentheses = []\n",
    "    for c in stack:\n",
    "        if c == '(':\n",
    "            open_parentheses.append(c)\n",
    "        elif c == '*':\n",
    "            if open_parentheses:\n",
    "                open_parentheses.pop()\n",
    "    \n",
    "    return len(open_parentheses) == 0\n",
    "\n",
    "s = \"()\"\n",
    "print(checkValidString(s))\n"
   ]
  },
  {
   "cell_type": "markdown",
   "id": "686b8d9a-9bb6-49b8-9782-2811dee1a0c0",
   "metadata": {},
   "source": [
    "## 3.minimum steps"
   ]
  },
  {
   "cell_type": "code",
   "execution_count": 5,
   "id": "3173d254-6d60-4195-ab2f-7acc05a92b0e",
   "metadata": {},
   "outputs": [
    {
     "name": "stdout",
     "output_type": "stream",
     "text": [
      "2\n"
     ]
    }
   ],
   "source": [
    "def minSteps(word1, word2):\n",
    "    m, n = len(word1), len(word2)\n",
    "    dp = [[0] * (n+1) for _ in range(m+1)]\n",
    "\n",
    "    # Base cases\n",
    "    for i in range(1, m+1):\n",
    "        dp[i][0] = i\n",
    "    for j in range(1, n+1):\n",
    "        dp[0][j] = j\n",
    "\n",
    "    # Fill the DP table\n",
    "    for i in range(1, m+1):\n",
    "        for j in range(1, n+1):\n",
    "            if word1[i-1] == word2[j-1]:\n",
    "                dp[i][j] = dp[i-1][j-1]\n",
    "            else:\n",
    "                dp[i][j] = min(dp[i-1][j] + 1, dp[i][j-1] + 1)\n",
    "\n",
    "    return dp[m][n]\n",
    "\n",
    "word1 = \"sea\"\n",
    "word2 = \"eat\"\n",
    "print(minSteps(word1, word2))\n"
   ]
  },
  {
   "cell_type": "code",
   "execution_count": null,
   "id": "0211b5e4-4be3-458e-9a95-587fc713d22a",
   "metadata": {},
   "outputs": [],
   "source": [
    "-Initialize a 2D dynamic programming table dp with dimensions (m+1) x (n+1), where m and n are the lengths of \n",
    " word1 and word2, respectively.\n",
    "-Iterate through the rows of dp from 0 to m, and for each row, iterate through the columns from 0 to n.\n",
    "-For the base cases, when either i or j is 0, set dp[i][j] to i + j since one of the strings is empty, and \n",
    " the number of steps required is equal to the length of the non-empty string.\n",
    "-For the non-base cases, if word1[i-1] is equal to word2[j-1], it means the current characters match. In this\n",
    " case, set dp[i][j] to dp[i-1][j-1] since no characters need to be deleted.\n",
    "-If word1[i-1] is not equal to word2[j-1], it means the current characters do not match. In this case, we\n",
    " have two options: delete word1[i-1] or delete word2[j-1]. We choose the option that minimizes the number of\n",
    "steps required. So, set dp[i][j] to the minimum of dp[i-1][j] + 1 and dp[i][j-1] + 1.\n",
    "-After iterating through all the cells, the value in dp[m][n] will represent the minimum number of steps \n",
    " required to make the two strings the same. Return this value as the result."
   ]
  },
  {
   "cell_type": "markdown",
   "id": "eafc0570-eaa7-4b91-ba90-f8952d552511",
   "metadata": {},
   "source": [
    "## 4.tree node"
   ]
  },
  {
   "cell_type": "code",
   "execution_count": 7,
   "id": "074f8ac6-0638-4a2e-bac8-b7b9b04eaffc",
   "metadata": {},
   "outputs": [
    {
     "name": "stdout",
     "output_type": "stream",
     "text": [
      "[4, 2, 3, 1, 6, 5]\n"
     ]
    }
   ],
   "source": [
    "class TreeNode:\n",
    "    def __init__(self, val=0, left=None, right=None):\n",
    "        self.val = val\n",
    "        self.left = left\n",
    "        self.right = right\n",
    "\n",
    "def buildTree(s):\n",
    "    if not s:\n",
    "        return None\n",
    "    \n",
    "    # Find the index of the first opening parenthesis\n",
    "    idx = s.find('(')\n",
    "    if idx == -1:\n",
    "        # No child nodes, only a single value\n",
    "        return TreeNode(int(s))\n",
    "    \n",
    "    # Create the root node with the value found at idx\n",
    "    root_val = int(s[:idx])\n",
    "    root = TreeNode(root_val)\n",
    "    \n",
    "    # Find the index of the corresponding closing parenthesis\n",
    "    count = 0\n",
    "    for i in range(idx, len(s)):\n",
    "        if s[i] == '(':\n",
    "            count += 1\n",
    "        elif s[i] == ')':\n",
    "            count -= 1\n",
    "        if count == 0:\n",
    "            left_end = i\n",
    "            break\n",
    "    \n",
    "    # Extract the substrings for the left and right subtrees\n",
    "    left_subtree = s[idx+1:left_end]\n",
    "    right_subtree = s[left_end+2:-1] if left_end + 2 < len(s) else \"\"\n",
    "    \n",
    "    # Recursively build the left and right subtrees\n",
    "    root.left = buildTree(left_subtree)\n",
    "    root.right = buildTree(right_subtree)\n",
    "    \n",
    "    return root\n",
    "\n",
    "\n",
    "s = \"4(2(3)(1))(6(5))\"\n",
    "tree = buildTree(s)\n",
    "\n",
    "# Helper function to convert the tree to a list for easier visualization\n",
    "def treeToList(root):\n",
    "    if not root:\n",
    "        return []\n",
    "    return [root.val] + treeToList(root.left) + treeToList(root.right)\n",
    "\n",
    "result = treeToList(tree)\n",
    "print(result)"
   ]
  },
  {
   "cell_type": "markdown",
   "id": "6a556817-e57d-4e4a-8831-3353fe15de5b",
   "metadata": {},
   "source": [
    "## 5.compress"
   ]
  },
  {
   "cell_type": "code",
   "execution_count": 4,
   "id": "931b9b91-0aa8-4db4-b00f-ebf2d0796fab",
   "metadata": {},
   "outputs": [
    {
     "name": "stdout",
     "output_type": "stream",
     "text": [
      "7\n",
      "['a', '2', 'b', '2', 'c', '3', '']\n"
     ]
    }
   ],
   "source": [
    "def compress(chars):\n",
    "    read = 0\n",
    "    write = 0\n",
    "    count = 1\n",
    "\n",
    "    while read < len(chars):\n",
    "        if read > 0 and chars[read] == chars[read-1]:\n",
    "            count += 1\n",
    "        else:\n",
    "            if count > 1:\n",
    "                for digit in str(count):\n",
    "                    chars[write] = digit\n",
    "                    write += 1\n",
    "            chars[write] = chars[read]\n",
    "            write += 1\n",
    "            count = 1\n",
    "        read += 1\n",
    "\n",
    "    if count > 1:\n",
    "        for digit in str(count):\n",
    "            chars[write] = digit\n",
    "            write += 1\n",
    "\n",
    "    # Set remaining elements to empty characters\n",
    "    while write < len(chars):\n",
    "        chars[write] = ''\n",
    "        write += 1\n",
    "\n",
    "    return write\n",
    "\n",
    "\n",
    "chars = [\"a\", \"a\", \"b\", \"b\", \"c\", \"c\", \"c\"]\n",
    "new_length = compress(chars)\n",
    "print(new_length)\n",
    "print(chars[:new_length])\n"
   ]
  },
  {
   "cell_type": "code",
   "execution_count": null,
   "id": "ec2b5c1e-2996-4e25-9157-f6cb53bf8a6b",
   "metadata": {},
   "outputs": [],
   "source": [
    "-Initialize two pointers: read and write. Set read to 0 and write to 0.\n",
    "-Initialize a variable count to 1 to keep track of the consecutive repeating characters.\n",
    "-Iterate over the array chars starting from index 1:\n",
    "    ~If chars[read] is equal to chars[read-1], it means we have a consecutive repeating character. Increment \n",
    "     count by 1.\n",
    "    ~If chars[read] is not equal to chars[read-1], it means we have encountered a new character. We need to\n",
    "     write the compressed version of the previous character to the write position in the array:\n",
    "        ~Write chars[read-1] to chars[write].\n",
    "        ~If count is greater than 1, convert count to a string and write each digit as a separate character \n",
    "         in the array starting from write+1. Update write accordingly.\n",
    "        ~Reset count to 1.\n",
    "        ~Increment write by 1.\n",
    "    ~Increment read by 1.\n",
    "-After the loop ends, we need to write the compressed version of the last character to the write position in \n",
    " the array.\n",
    "    ~Write chars[read-1] to chars[write].\n",
    "    ~If count is greater than 1, convert count to a string and write each digit as a separate character in \n",
    "     the array starting from write+1. Update write accordingly.\n",
    "    ~Increment write by 1.\n",
    "-Set the remaining elements in the array from index write to the end of the array to empty characters to \n",
    " ensure they are not considered in the final result.\n",
    "-Return the value of write as the new length of the array."
   ]
  },
  {
   "cell_type": "markdown",
   "id": "94d39ae6-6a49-4799-b21e-da5745caec95",
   "metadata": {},
   "source": [
    "## 6.findanagrams"
   ]
  },
  {
   "cell_type": "code",
   "execution_count": 5,
   "id": "b4abcc60-f23c-494b-ab8e-f662465aca77",
   "metadata": {},
   "outputs": [
    {
     "name": "stdout",
     "output_type": "stream",
     "text": [
      "[0, 6]\n"
     ]
    }
   ],
   "source": [
    "from collections import defaultdict\n",
    "\n",
    "def findAnagrams(s, p):\n",
    "    p_count = defaultdict(int)\n",
    "    window_count = defaultdict(int)\n",
    "    result = []\n",
    "    \n",
    "    # Count the frequencies of characters in p\n",
    "    for char in p:\n",
    "        p_count[char] += 1\n",
    "    \n",
    "    left = 0\n",
    "    right = 0\n",
    "    \n",
    "    while right < len(s):\n",
    "        # Expand the window by incrementing the count of the character at right\n",
    "        window_count[s[right]] += 1\n",
    "        \n",
    "        # Shrink the window if its size is greater than the length of p\n",
    "        if right - left + 1 > len(p):\n",
    "            window_count[s[left]] -= 1\n",
    "            if window_count[s[left]] == 0:\n",
    "                del window_count[s[left]]\n",
    "            left += 1\n",
    "        \n",
    "        # Compare the frequencies of characters in the window and p\n",
    "        if right - left + 1 == len(p) and window_count == p_count:\n",
    "            result.append(left)\n",
    "        \n",
    "        right += 1\n",
    "    \n",
    "    return result\n",
    "\n",
    "s = \"cbaebabacd\"\n",
    "p = \"abc\"\n",
    "result = findAnagrams(s, p)\n",
    "print(result)\n"
   ]
  },
  {
   "cell_type": "code",
   "execution_count": null,
   "id": "59b4acb9-29f7-4c85-b86a-6274b2dfaeaa",
   "metadata": {},
   "outputs": [],
   "source": [
    "-Initialize two dictionaries, p_count and window_count, to store the frequencies of characters in p and the \n",
    " current window of characters in s, respectively.\n",
    "-Iterate over the characters in p and increment their counts in p_count.\n",
    "-Initialize two pointers, left and right, to denote the left and right boundaries of the sliding window. Set\n",
    " them to 0 initially.\n",
    "-While the right pointer is less than the length of s:\n",
    "    ~Increment the count of the character at right in window_count.\n",
    "    ~If the size of the current window is equal to the length of p, compare the frequencies of characters in \n",
    "     window_count and p_count. If they are equal, it means we have found an anagram. Append the start index,\n",
    "    which is left, to the result.\n",
    "        ~Decrement the count of the character at left in window_count.\n",
    "        ~If the count becomes 0, remove the character from window_count to maintain the correct frequencies.\n",
    "        ~Increment left to slide the window to the right.\n",
    "    ~Increment right to expand the window to the right.\n",
    "-Return the result containing the start indices of p's anagrams in s."
   ]
  },
  {
   "cell_type": "markdown",
   "id": "feebaca7-df4c-40a4-9725-8b558bdf50bc",
   "metadata": {},
   "source": [
    "## 7.decode string"
   ]
  },
  {
   "cell_type": "code",
   "execution_count": 12,
   "id": "a8c049e5-d8e4-4b8f-a377-75ae58b5192d",
   "metadata": {},
   "outputs": [
    {
     "name": "stdout",
     "output_type": "stream",
     "text": [
      "aaabcbc\n"
     ]
    }
   ],
   "source": [
    "def decodeString(s):\n",
    "    stack = []\n",
    "    \n",
    "    for char in s:\n",
    "        if char.isdigit():\n",
    "            # Process the repeat count\n",
    "            stack.append(int(char))\n",
    "        elif char == '[':\n",
    "            # Start of an encoded string\n",
    "            stack.append('')\n",
    "        elif char == ']':\n",
    "            # End of an encoded string\n",
    "            repeat_count = stack.pop()\n",
    "            encoded_string = stack.pop()\n",
    "            decoded_string = encoded_string * repeat_count\n",
    "            if stack and isinstance(stack[-1], str):\n",
    "                # Append the decoded string to the previous section\n",
    "                stack[-1] += decoded_string\n",
    "            else:\n",
    "                # No previous section, add the decoded string to the stack\n",
    "                stack.append(decoded_string)\n",
    "        else:\n",
    "            # Regular character, add it to the current section\n",
    "            if stack and isinstance(stack[-1], str):\n",
    "                stack[-1] += char\n",
    "            else:\n",
    "                stack.append(char)\n",
    "    \n",
    "    return stack[0]\n",
    "\n",
    "s = \"3[a]2[bc]\"\n",
    "result = decodeString(s)\n",
    "print(result)"
   ]
  },
  {
   "cell_type": "markdown",
   "id": "15c1e98f-756c-4405-a74a-69088f31ae23",
   "metadata": {},
   "source": [
    "## 8.buddy strings"
   ]
  },
  {
   "cell_type": "code",
   "execution_count": 14,
   "id": "a66817f8-7cea-48f9-aba4-4c56225b8e4f",
   "metadata": {},
   "outputs": [
    {
     "name": "stdout",
     "output_type": "stream",
     "text": [
      "True\n"
     ]
    }
   ],
   "source": [
    "def buddyStrings(s, goal):\n",
    "    if len(s) != len(goal):\n",
    "        return False\n",
    "\n",
    "    mismatch_indices = []\n",
    "    common_characters = []\n",
    "\n",
    "    for i in range(len(s)):\n",
    "        if s[i] != goal[i]:\n",
    "            mismatch_indices.append(i)\n",
    "            common_characters.append(s[i])\n",
    "\n",
    "    if len(mismatch_indices) != 2:\n",
    "        return False\n",
    "\n",
    "    i, j = mismatch_indices\n",
    "\n",
    "    if s[i] != goal[j] or s[j] != goal[i]:\n",
    "        return False\n",
    "\n",
    "    return len(set(common_characters)) >= 2 or len(set(s)) < len(s)\n",
    "\n",
    "s = \"ab\"\n",
    "goal = \"ba\"\n",
    "result = buddyStrings(s, goal)\n",
    "print(result)"
   ]
  },
  {
   "cell_type": "code",
   "execution_count": null,
   "id": "b64d7f98-670e-4449-9a39-688db7b617fb",
   "metadata": {},
   "outputs": [],
   "source": [
    "-Initialize two lists, mismatch_indices and common_characters, to store the indices where s and goal differ \n",
    " and the common characters at those indices, respectively.\n",
    "-Iterate over the characters in s and goal simultaneously:\n",
    "    ~If the characters at the current index differ, add the index to mismatch_indices and the character from \n",
    "     s to common_characters.\n",
    "-If the length of mismatch_indices is not equal to 2, return False because we can only swap two characters.\n",
    "-Check if the characters at the indices in mismatch_indices are equal when compared between s and goal. If \n",
    " they are not equal, return False because swapping the characters will not result in goal.\n",
    "-Check if there are at least two common characters in common_characters. If there are, return True because\n",
    " swapping the characters will result in goal.\n",
    "-If the above conditions are not satisfied, return False."
   ]
  }
 ],
 "metadata": {
  "kernelspec": {
   "display_name": "Python 3 (ipykernel)",
   "language": "python",
   "name": "python3"
  },
  "language_info": {
   "codemirror_mode": {
    "name": "ipython",
    "version": 3
   },
   "file_extension": ".py",
   "mimetype": "text/x-python",
   "name": "python",
   "nbconvert_exporter": "python",
   "pygments_lexer": "ipython3",
   "version": "3.10.8"
  }
 },
 "nbformat": 4,
 "nbformat_minor": 5
}
